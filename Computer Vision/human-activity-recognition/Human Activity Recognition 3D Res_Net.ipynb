{
 "cells": [
  {
   "cell_type": "markdown",
   "metadata": {},
   "source": [
    "# Human Activity Recognition"
   ]
  },
  {
   "cell_type": "markdown",
   "metadata": {},
   "source": [
    "### The dataset our human activity recognition model was trained on is the Kinetics 400 Dataset.\n",
    "\n",
    "##### This dataset consists of:\n",
    "\n",
    "400 human activity recognition classes\n",
    "\n",
    "At least 400 video clips per class (downloaded via YouTube)\n",
    "\n",
    "A total of 300,000 videos\n",
    "\n",
    "![dataset.png](https://www.pyimagesearch.com/wp-content/uploads/2019/11/human_activity_reco_kinetics_dataset.jpg)"
   ]
  },
  {
   "cell_type": "markdown",
   "metadata": {},
   "source": [
    "## 3D ResNet for Human Activity Recognition\n",
    "\n",
    "![image.png](https://www.pyimagesearch.com/wp-content/uploads/2019/11/human_activity_reco_success.png)"
   ]
  },
  {
   "cell_type": "markdown",
   "metadata": {},
   "source": [
    "### Import these libraries"
   ]
  },
  {
   "cell_type": "code",
   "execution_count": 1,
   "metadata": {},
   "outputs": [],
   "source": [
    "import numpy as np\n",
    "import imutils\n",
    "import sys\n",
    "import cv2"
   ]
  },
  {
   "cell_type": "markdown",
   "metadata": {},
   "source": [
    "#### Load the contents of the class labels file, then define the sample duration and sample size"
   ]
  },
  {
   "cell_type": "code",
   "execution_count": null,
   "metadata": {},
   "outputs": [],
   "source": [
    "CLASSES = open('Your path/action_recognition_kinetics.txt').read().strip().split(\"\\n\") # Specify the label Path\n",
    "SAMPLE_DURATION = 16\n",
    "SAMPLE_SIZE = 112"
   ]
  },
  {
   "cell_type": "markdown",
   "metadata": {},
   "source": [
    "#### Load the human activity recognition model"
   ]
  },
  {
   "cell_type": "code",
   "execution_count": 14,
   "metadata": {},
   "outputs": [
    {
     "name": "stdout",
     "output_type": "stream",
     "text": [
      "[INFO] loading human activity recognition model...\n"
     ]
    }
   ],
   "source": [
    "net = cv2.dnn.readNet('Your path/resnet-34_kinetics.onnx') # Specify the Model Path\n",
    "print(\"[INFO] loading human activity recognition model...\")"
   ]
  },
  {
   "cell_type": "markdown",
   "metadata": {},
   "source": [
    "#### Your input video goes here: Specify the path of the input Video "
   ]
  },
  {
   "cell_type": "code",
   "execution_count": 15,
   "metadata": {},
   "outputs": [
    {
     "name": "stdout",
     "output_type": "stream",
     "text": [
      "[INFO] accessing video stream...\n"
     ]
    }
   ],
   "source": [
    "vs = cv2.VideoCapture('Your path/activities.mp4') # Your Input Video Path\n",
    "print(\"[INFO] accessing video stream...\")"
   ]
  },
  {
   "cell_type": "markdown",
   "metadata": {},
   "source": [
    "## This code block performs the activity recognition"
   ]
  },
  {
   "cell_type": "code",
   "execution_count": null,
   "metadata": {},
   "outputs": [],
   "source": [
    "while True:\n",
    "    # initialize the batch of frames that will be passed through the model\n",
    "    frames = []\n",
    "\n",
    "    # loop over the number of required sample frames\n",
    "    for i in range(0, SAMPLE_DURATION):\n",
    "        # read a frame from the video stream\n",
    "        (grabbed, frame) = vs.read()\n",
    "\n",
    "        # if the frame was not grabbed then we've reached the end of the video stream so exit the script\n",
    "        if not grabbed:\n",
    "            print(\"[INFO] no frame read from stream - exiting\")\n",
    "            sys.exit(0)\n",
    "\n",
    "        # otherwise, the frame was read so resize it and add it to our frames list\n",
    "        frame = imutils.resize(frame, width=400)\n",
    "        frames.append(frame)\n",
    "\n",
    "    # now that our frames array is filled we can construct our blob\n",
    "    blob = cv2.dnn.blobFromImages(frames, 1.0,\n",
    "        (SAMPLE_SIZE, SAMPLE_SIZE), (114.7748, 107.7354, 99.4750),\n",
    "        swapRB=True, crop=True)\n",
    "    blob = np.transpose(blob, (1, 0, 2, 3))\n",
    "    blob = np.expand_dims(blob, axis=0)\n",
    "\n",
    "    # pass the blob through the network to obtain our human activity recognition predictions\n",
    "    net.setInput(blob)\n",
    "    outputs = net.forward()\n",
    "    label = CLASSES[np.argmax(outputs)]\n",
    "\n",
    "    # loop over our frames\n",
    "    for frame in frames:\n",
    "        # draw the predicted activity on the frame\n",
    "        cv2.rectangle(frame, (0, 0), (300, 40), (0, 0, 0), -1)\n",
    "        cv2.putText(frame, label, (10, 25), cv2.FONT_HERSHEY_SIMPLEX,\n",
    "            0.8, (255, 255, 255), 2)\n",
    "\n",
    "        # display the frame to our screen\n",
    "        cv2.imshow(\"Activity Recognition\", frame)\n",
    "        key = cv2.waitKey(1) & 0xFF\n",
    "\n",
    "        # if the `q` key was pressed, break from the loop\n",
    "        if key == ord(\"q\"):\n",
    "            break"
   ]
  },
  {
   "cell_type": "markdown",
   "metadata": {},
   "source": [
    "## Press q to quit "
   ]
  },
  {
   "cell_type": "markdown",
   "metadata": {},
   "source": [
    "# Try with different custom videos"
   ]
  }
 ],
 "metadata": {
  "kernelspec": {
   "display_name": "Python 3",
   "language": "python",
   "name": "python3"
  },
  "language_info": {
   "codemirror_mode": {
    "name": "ipython",
    "version": 3
   },
   "file_extension": ".py",
   "mimetype": "text/x-python",
   "name": "python",
   "nbconvert_exporter": "python",
   "pygments_lexer": "ipython3",
   "version": "3.7.3"
  }
 },
 "nbformat": 4,
 "nbformat_minor": 2
}
