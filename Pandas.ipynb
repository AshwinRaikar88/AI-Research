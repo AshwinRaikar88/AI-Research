{
  "cells": [
    {
      "metadata": {},
      "cell_type": "markdown",
      "source": "# Introduction to Pandas"
    },
    {
      "metadata": {},
      "cell_type": "markdown",
      "source": "Pandas is a high-level data manipulation tool developed by Wes McKinney.\nIt is built on the Numpy package and its key data structure is called the DataFrame."
    },
    {
      "metadata": {},
      "cell_type": "markdown",
      "source": "----"
    },
    {
      "metadata": {
        "collapsed": true
      },
      "cell_type": "markdown",
      "source": "## Pandas DataFrames"
    },
    {
      "metadata": {},
      "cell_type": "markdown",
      "source": "DataFrames allow you to store and manipulate tabular data in rows of observations and columns of variables."
    },
    {
      "metadata": {},
      "cell_type": "markdown",
      "source": "Use the following import convention:"
    },
    {
      "metadata": {
        "trusted": true
      },
      "cell_type": "code",
      "source": ">>> import pandas as pd",
      "execution_count": 3,
      "outputs": []
    },
    {
      "metadata": {},
      "cell_type": "markdown",
      "source": "### Pandas Data Structures\n\n#### Series\nA one-dimensional labeled array capable of holding any data type "
    },
    {
      "metadata": {
        "trusted": true
      },
      "cell_type": "code",
      "source": ">>> s = pd.Series([3, -5, 7, 4],  index=['a',  'b',  'c',  'd'])\n\nprint(s)\n",
      "execution_count": 6,
      "outputs": [
        {
          "output_type": "stream",
          "text": "a    3\nb   -5\nc    7\nd    4\ndtype: int64\n",
          "name": "stdout"
        }
      ]
    },
    {
      "metadata": {},
      "cell_type": "markdown",
      "source": "#### DataFrame\nA two-dimensional labeled data structure with columns of potentially different types"
    },
    {
      "metadata": {
        "trusted": true
      },
      "cell_type": "code",
      "source": ">>> data = {'Country': ['Belgium',  'India',  'Brazil'],\n\n'Capital': ['Brussels',  'New Delhi',  'Brasilia'],\n\n'Population': [11190846, 1303171035, 207847528]}\n>>> df = pd.DataFrame(data,columns=['Country',  'Capital',  'Population'])\n\nprint(df)",
      "execution_count": 7,
      "outputs": [
        {
          "output_type": "stream",
          "text": "   Country    Capital  Population\n0  Belgium   Brussels    11190846\n1    India  New Delhi  1303171035\n2   Brazil   Brasilia   207847528\n",
          "name": "stdout"
        }
      ]
    },
    {
      "metadata": {},
      "cell_type": "markdown",
      "source": "Note that the first column 1,2,3 is the index and Country,Capital,Population are the Columns. "
    },
    {
      "metadata": {},
      "cell_type": "markdown",
      "source": "#### Asking For Help"
    },
    {
      "metadata": {},
      "cell_type": "markdown",
      "source": "help(pd.Series.loc)"
    },
    {
      "metadata": {},
      "cell_type": "markdown",
      "source": "### I/O\n#### Read and Write to CSV"
    },
    {
      "metadata": {},
      "cell_type": "markdown",
      "source": "pd.read_csv('file.csv', header=None, nrows=5)\n\npd.to_csv('myDataFrame.csv')"
    },
    {
      "metadata": {},
      "cell_type": "markdown",
      "source": "#### Read multiple sheets from the same file"
    },
    {
      "metadata": {},
      "cell_type": "markdown",
      "source": "xlsx = pd.ExcelFile('file.xls')\n\ndf = pd.read_excel(xlsx,  'Sheet1')"
    },
    {
      "metadata": {},
      "cell_type": "markdown",
      "source": "#### Read and Write to Excel"
    },
    {
      "metadata": {},
      "cell_type": "markdown",
      "source": "pd.read_excel('file.xlsx')\n\npd.to_excel('dir/myDataFrame.xlsx',  sheet_name='Sheet1')"
    },
    {
      "metadata": {},
      "cell_type": "markdown",
      "source": "#### Read and Write to SQL Query or Database Table\n\n(read_sql()is a convenience wrapper around read_sql_table() and read_sql_query())"
    },
    {
      "metadata": {},
      "cell_type": "markdown",
      "source": "from sqlalchemy import create_engine\n\nengine = create_engine('sqlite:///:memory:')\n\npd.read_sql(SELECT * FROM my_table;, engine)\n\npd.read_sql_table('my_table', engine)\n\npd.read_sql_query(SELECT * FROM my_table;', engine)\n\n\npd.to_sql('myDf', engine)"
    },
    {
      "metadata": {
        "trusted": true
      },
      "cell_type": "code",
      "source": "",
      "execution_count": null,
      "outputs": []
    },
    {
      "metadata": {
        "trusted": true
      },
      "cell_type": "code",
      "source": "",
      "execution_count": null,
      "outputs": []
    }
  ],
  "metadata": {
    "kernelspec": {
      "name": "python36",
      "display_name": "Python 3.6",
      "language": "python"
    },
    "language_info": {
      "mimetype": "text/x-python",
      "nbconvert_exporter": "python",
      "name": "python",
      "pygments_lexer": "ipython3",
      "version": "3.6.6",
      "file_extension": ".py",
      "codemirror_mode": {
        "version": 3,
        "name": "ipython"
      }
    }
  },
  "nbformat": 4,
  "nbformat_minor": 2
}